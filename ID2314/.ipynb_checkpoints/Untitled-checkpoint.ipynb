{
 "cells": [
  {
   "cell_type": "code",
   "execution_count": 1,
   "id": "49a692d3",
   "metadata": {},
   "outputs": [
    {
     "data": {
      "text/html": [
       "<div>\n",
       "<style scoped>\n",
       "    .dataframe tbody tr th:only-of-type {\n",
       "        vertical-align: middle;\n",
       "    }\n",
       "\n",
       "    .dataframe tbody tr th {\n",
       "        vertical-align: top;\n",
       "    }\n",
       "\n",
       "    .dataframe thead th {\n",
       "        text-align: right;\n",
       "    }\n",
       "</style>\n",
       "<table border=\"1\" class=\"dataframe\">\n",
       "  <thead>\n",
       "    <tr style=\"text-align: right;\">\n",
       "      <th></th>\n",
       "      <th>Glucose</th>\n",
       "    </tr>\n",
       "    <tr>\n",
       "      <th>Timestamp</th>\n",
       "      <th></th>\n",
       "    </tr>\n",
       "  </thead>\n",
       "  <tbody>\n",
       "    <tr>\n",
       "      <th>2023-06-11 19:19:00</th>\n",
       "      <td>11.2</td>\n",
       "    </tr>\n",
       "    <tr>\n",
       "      <th>2023-06-11 19:21:00</th>\n",
       "      <td>10.7</td>\n",
       "    </tr>\n",
       "    <tr>\n",
       "      <th>2023-06-11 19:36:00</th>\n",
       "      <td>10.7</td>\n",
       "    </tr>\n",
       "    <tr>\n",
       "      <th>2023-06-11 19:51:00</th>\n",
       "      <td>10.8</td>\n",
       "    </tr>\n",
       "    <tr>\n",
       "      <th>2023-06-11 20:06:00</th>\n",
       "      <td>11.2</td>\n",
       "    </tr>\n",
       "    <tr>\n",
       "      <th>...</th>\n",
       "      <td>...</td>\n",
       "    </tr>\n",
       "    <tr>\n",
       "      <th>2024-02-05 08:17:00</th>\n",
       "      <td>10.8</td>\n",
       "    </tr>\n",
       "    <tr>\n",
       "      <th>2024-02-05 08:32:00</th>\n",
       "      <td>11.4</td>\n",
       "    </tr>\n",
       "    <tr>\n",
       "      <th>2024-02-05 08:47:00</th>\n",
       "      <td>13.9</td>\n",
       "    </tr>\n",
       "    <tr>\n",
       "      <th>2024-02-05 09:02:00</th>\n",
       "      <td>14.4</td>\n",
       "    </tr>\n",
       "    <tr>\n",
       "      <th>2024-02-05 09:25:00</th>\n",
       "      <td>12.3</td>\n",
       "    </tr>\n",
       "  </tbody>\n",
       "</table>\n",
       "<p>31922 rows × 1 columns</p>\n",
       "</div>"
      ],
      "text/plain": [
       "                     Glucose\n",
       "Timestamp                   \n",
       "2023-06-11 19:19:00     11.2\n",
       "2023-06-11 19:21:00     10.7\n",
       "2023-06-11 19:36:00     10.7\n",
       "2023-06-11 19:51:00     10.8\n",
       "2023-06-11 20:06:00     11.2\n",
       "...                      ...\n",
       "2024-02-05 08:17:00     10.8\n",
       "2024-02-05 08:32:00     11.4\n",
       "2024-02-05 08:47:00     13.9\n",
       "2024-02-05 09:02:00     14.4\n",
       "2024-02-05 09:25:00     12.3\n",
       "\n",
       "[31922 rows x 1 columns]"
      ]
     },
     "execution_count": 1,
     "metadata": {},
     "output_type": "execute_result"
    }
   ],
   "source": [
    "import pandas as pd\n",
    "df_glucose = pd.read_csv('BG.csv', low_memory=False, skiprows=2)\n",
    "df_glucose['Glucose'] = df_glucose['Scan Glucose mmol/L'].combine_first(df_glucose['Historic Glucose mmol/L'])\n",
    "df_glucose['Glucose'] = pd.to_numeric(df_glucose['Glucose'], errors='coerce')\n",
    "df_glucose['Timestamp'] = pd.to_datetime(df_glucose['Device Timestamp'], dayfirst=True, errors='coerce')\n",
    "df_glucose = df_glucose[['Timestamp', 'Glucose']].dropna()\n",
    "df_glucose = df_glucose.set_index('Timestamp').sort_index()\n",
    "df_glucose"
   ]
  },
  {
   "cell_type": "code",
   "execution_count": 2,
   "id": "500a2196",
   "metadata": {},
   "outputs": [
    {
     "name": "stdout",
     "output_type": "stream",
     "text": [
      "                     Glucose\n",
      "Timestamp                   \n",
      "2023-06-12 09:26:00      8.2\n",
      "2023-06-12 09:26:00      9.3\n",
      "2023-06-12 21:17:00      5.8\n",
      "2023-06-12 21:17:00      5.8\n",
      "2023-06-13 18:12:00     13.1\n",
      "...                      ...\n",
      "2024-02-04 09:56:00     17.3\n",
      "2024-02-04 17:41:00      9.0\n",
      "2024-02-04 17:41:00      8.6\n",
      "2024-02-04 19:42:00      4.7\n",
      "2024-02-04 19:42:00      5.3\n",
      "\n",
      "[1582 rows x 1 columns]\n"
     ]
    }
   ],
   "source": [
    "duplicates = df_glucose[df_glucose.index.duplicated(keep=False)]\n",
    "print(duplicates)"
   ]
  },
  {
   "cell_type": "code",
   "execution_count": null,
   "id": "152eacac",
   "metadata": {},
   "outputs": [],
   "source": []
  }
 ],
 "metadata": {
  "kernelspec": {
   "display_name": "Python 3",
   "language": "python",
   "name": "python3"
  },
  "language_info": {
   "codemirror_mode": {
    "name": "ipython",
    "version": 3
   },
   "file_extension": ".py",
   "mimetype": "text/x-python",
   "name": "python",
   "nbconvert_exporter": "python",
   "pygments_lexer": "ipython3",
   "version": "3.8.8"
  }
 },
 "nbformat": 4,
 "nbformat_minor": 5
}
