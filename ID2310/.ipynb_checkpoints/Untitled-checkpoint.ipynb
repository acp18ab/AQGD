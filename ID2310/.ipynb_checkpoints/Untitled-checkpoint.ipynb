{
 "cells": [
  {
   "cell_type": "code",
   "execution_count": 2,
   "id": "49a692d3",
   "metadata": {},
   "outputs": [
    {
     "data": {
      "text/html": [
       "<div>\n",
       "<style scoped>\n",
       "    .dataframe tbody tr th:only-of-type {\n",
       "        vertical-align: middle;\n",
       "    }\n",
       "\n",
       "    .dataframe tbody tr th {\n",
       "        vertical-align: top;\n",
       "    }\n",
       "\n",
       "    .dataframe thead th {\n",
       "        text-align: right;\n",
       "    }\n",
       "</style>\n",
       "<table border=\"1\" class=\"dataframe\">\n",
       "  <thead>\n",
       "    <tr style=\"text-align: right;\">\n",
       "      <th></th>\n",
       "      <th>Glucose</th>\n",
       "    </tr>\n",
       "    <tr>\n",
       "      <th>Timestamp</th>\n",
       "      <th></th>\n",
       "    </tr>\n",
       "  </thead>\n",
       "  <tbody>\n",
       "    <tr>\n",
       "      <th>2023-07-04 06:55:43</th>\n",
       "      <td>7.9</td>\n",
       "    </tr>\n",
       "    <tr>\n",
       "      <th>2023-07-04 07:00:43</th>\n",
       "      <td>7.9</td>\n",
       "    </tr>\n",
       "    <tr>\n",
       "      <th>2023-07-04 07:05:43</th>\n",
       "      <td>7.7</td>\n",
       "    </tr>\n",
       "    <tr>\n",
       "      <th>2023-07-04 07:10:43</th>\n",
       "      <td>7.8</td>\n",
       "    </tr>\n",
       "    <tr>\n",
       "      <th>2023-07-04 07:15:43</th>\n",
       "      <td>8.0</td>\n",
       "    </tr>\n",
       "    <tr>\n",
       "      <th>...</th>\n",
       "      <td>...</td>\n",
       "    </tr>\n",
       "    <tr>\n",
       "      <th>2024-04-12 14:34:31</th>\n",
       "      <td>7.3</td>\n",
       "    </tr>\n",
       "    <tr>\n",
       "      <th>2024-04-12 14:39:31</th>\n",
       "      <td>7.3</td>\n",
       "    </tr>\n",
       "    <tr>\n",
       "      <th>2024-04-12 14:44:31</th>\n",
       "      <td>7.3</td>\n",
       "    </tr>\n",
       "    <tr>\n",
       "      <th>2024-04-12 14:49:31</th>\n",
       "      <td>7.2</td>\n",
       "    </tr>\n",
       "    <tr>\n",
       "      <th>2024-04-12 14:54:31</th>\n",
       "      <td>7.0</td>\n",
       "    </tr>\n",
       "  </tbody>\n",
       "</table>\n",
       "<p>79877 rows × 1 columns</p>\n",
       "</div>"
      ],
      "text/plain": [
       "                     Glucose\n",
       "Timestamp                   \n",
       "2023-07-04 06:55:43      7.9\n",
       "2023-07-04 07:00:43      7.9\n",
       "2023-07-04 07:05:43      7.7\n",
       "2023-07-04 07:10:43      7.8\n",
       "2023-07-04 07:15:43      8.0\n",
       "...                      ...\n",
       "2024-04-12 14:34:31      7.3\n",
       "2024-04-12 14:39:31      7.3\n",
       "2024-04-12 14:44:31      7.3\n",
       "2024-04-12 14:49:31      7.2\n",
       "2024-04-12 14:54:31      7.0\n",
       "\n",
       "[79877 rows x 1 columns]"
      ]
     },
     "execution_count": 2,
     "metadata": {},
     "output_type": "execute_result"
    }
   ],
   "source": [
    "import pandas as pd\n",
    "\n",
    "df_glucose = pd.read_csv('BG.csv', low_memory=False)\n",
    "df_glucose['Glucose'] = df_glucose['Scan Glucose mmol/l'].combine_first(df_glucose['Historische glucose mmol/l'])\n",
    "df_glucose['Glucose'] = pd.to_numeric(df_glucose['Glucose'].str.replace(',', '.'), errors='coerce')\n",
    "df_glucose['Timestamp'] = pd.to_datetime(df_glucose['Tijdstempel apparaat'], dayfirst=True, errors='coerce')\n",
    "df_glucose = df_glucose[['Timestamp', 'Glucose']].dropna()\n",
    "df_glucose = df_glucose.set_index('Timestamp').sort_index()\n",
    "\n",
    "df_glucose = df_glucose.groupby(df_glucose.index).mean().dropna()\n",
    "df_glucose.to_csv('UoM2310.csv')\n",
    "df_glucose"
   ]
  },
  {
   "cell_type": "code",
   "execution_count": 8,
   "id": "500a2196",
   "metadata": {},
   "outputs": [
    {
     "name": "stdout",
     "output_type": "stream",
     "text": [
      "Empty DataFrame\n",
      "Columns: [Glucose]\n",
      "Index: []\n"
     ]
    }
   ],
   "source": [
    "duplicates = df_glucose[df_glucose.index.duplicated(keep=False)]\n",
    "print(duplicates)"
   ]
  },
  {
   "cell_type": "code",
   "execution_count": null,
   "id": "152eacac",
   "metadata": {},
   "outputs": [],
   "source": []
  }
 ],
 "metadata": {
  "kernelspec": {
   "display_name": "Python 3",
   "language": "python",
   "name": "python3"
  },
  "language_info": {
   "codemirror_mode": {
    "name": "ipython",
    "version": 3
   },
   "file_extension": ".py",
   "mimetype": "text/x-python",
   "name": "python",
   "nbconvert_exporter": "python",
   "pygments_lexer": "ipython3",
   "version": "3.8.8"
  }
 },
 "nbformat": 4,
 "nbformat_minor": 5
}
